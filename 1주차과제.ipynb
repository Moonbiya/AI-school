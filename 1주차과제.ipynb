{
  "nbformat": 4,
  "nbformat_minor": 0,
  "metadata": {
    "colab": {
      "name": "1주차과제.ipynb",
      "provenance": [],
      "collapsed_sections": [],
      "authorship_tag": "ABX9TyOC4QKcZTXidRa7WQa5XsND",
      "include_colab_link": true
    },
    "kernelspec": {
      "name": "python3",
      "display_name": "Python 3"
    }
  },
  "cells": [
    {
      "cell_type": "markdown",
      "metadata": {
        "id": "view-in-github",
        "colab_type": "text"
      },
      "source": [
        "<a href=\"https://colab.research.google.com/github/Moonbiya/AI-school/blob/master/1%EC%A3%BC%EC%B0%A8%EA%B3%BC%EC%A0%9C.ipynb\" target=\"_parent\"><img src=\"https://colab.research.google.com/assets/colab-badge.svg\" alt=\"Open In Colab\"/></a>"
      ]
    },
    {
      "cell_type": "markdown",
      "metadata": {
        "id": "_UTnFzFHHbNG",
        "colab_type": "text"
      },
      "source": [
        "* 인공지능 사례 분석\n",
        "  * 언어 : 네이버 클로바 OCR\n",
        "    * 정확한 데이터 추출   \n",
        "      방대한 데이터 학습을 통해 독자적인 글자 text 영역 검출 및 인식 기술을 보유\n",
        "    * Clova AI 기술을 활용한 차별화된 모델   \n",
        "     네이버의 Clova AI 기술을 활용하여 주요 비즈니스에 활용에 최적화된 고성능 OCR 인식 모델 적용하였다.한국어, 영어, 일본어를 지원하고 있으며 활자체 뿐만 아니라 높은 수준의 필기체 인식을 제공한다.\n",
        "    * 문서 처리 자동화   \n",
        "     등록된 템플릿과의 유사도를 통해 자동 분류가 가능하기에 사용자의 개입을 최소화하여 문서 분류가 가능한 효과적인 업무 워크플로우를 설계 할 수 있다.\n",
        "    * 관련영상\n",
        "       * [네이버 클라우드 플랫폼 OCR 활용법 소개](https://www.youtube.com/watch?v=9SSJEPgwMXs&t=925s)\n",
        "  * 음성 : 카카오i \n",
        "    * 카카오의 인공지능(AI)플랫폼\n",
        "    * 음성을 알아듣고,대화를 이해하며,이미지를 인식하고, 수많은 데이터를 확인하여 사용자가 원하는 것을 정확히 찾는다. \n",
        "    * 시각 엔진   \n",
        "     이미지 내부의 콘텐츠를 분석해서 얼굴,상품,태그,성인여부,text등을 판별하는 정교한 이미지 프로세싱 및 분석\n",
        "    * 음악 엔진   \n",
        "     언제 어디서든 원하는 음악정보를 제공하는 기술.\n",
        "  음악 소리를 듣고 실시간으로 음원을 인식하여 해당 곡의 정보를 알려준다.\n",
        "    * 음성 엔진   \n",
        "     음성 정보를 이해하고, 사람의 음성언어를 합성하는 기술    \n",
        "     * [text를 분석하여 음성으로 변환하는 기술](https://play-tv.kakao.com/v/393114531)   \n",
        "     * [음성을 분석하여 text로 변환하는 기술](https://play-tv.kakao.com/channel/2743187/cliplink/393114614)   \n",
        "     * [음성에서 특정 키워드를 추출해서 인식하는 기술](https://play-tv.kakao.com/channel/2743187/cliplink/394345067)   \n",
        "     * [입력된 음성을 미리 등록된 DB와 비교하여 화자가 누구인지 식별하는 기술](https://play-tv.kakao.com/channel/2743187/cliplink/394345197)\n",
        "   * 번역 엔진   \n",
        "   : 다국어 번역처리 기술을 적용해 언어간 소통을 원활하게 하는 기술\n",
        "   * 대화 엔진   \n",
        "   : 대화 속에서 말하는 사람의 의도, 말하기의 목적을 이해하고, 그에 맞는 결과를 제공함.\n",
        "   * 관련 글   \n",
        "     * [카카오미니는 목소리를 어떻게 인식할까](https://brunch.co.kr/@kakao-it/135)   \n",
        "     * [음성인식 방법과 카카오i의 음성인식 엔진](https://brunch.co.kr/@kakao-it/105)   \n",
        "     * [헤이카카오를 불러야 하는 이유](https://brunch.co.kr/@kakao-it/222)\n",
        "     \n",
        " * 이미지 : 구글 스마트렌즈\n",
        "   * 구글 스마트렌즈는 구글이 2017년에 발표한 기능의 하나이며, 시각 분석을 사용하여 관련 정보를 가져오도록 설계되어있다.\n",
        "   * 카메라에 물체를 가져다 대면 인공지능 컴퓨팅 능력을 통해 카메라에 담긴 사물이 무엇인지를 이해하고 관련 정보를 알려준다.\n",
        "   * 텍스트 스캔 및 번역하기   \n",
        "   눈앞의 단어를 번역하고, 명함을 연락처에 저장하고, 포스터에 안내된 일정을 캘린더에 추가하며, 복잡한 코드나 긴 문단을 간편하게 복사한 다음 휴대전화에 붙여넣을 수 있다.\n",
        "   * 동식물 이름 찾기   \n",
        "   * 주변장소 둘러보기   \n",
        "명소, 음식점 ,매장 등의 이름을 확인하고 평점, 영업시간, 역사적 사실 등을 확인 할 수 있다.\n",
        "   * 마음에 드는 물건 찾기\n",
        "   * 코드 스캔 \n",
        "   * 관련영상   \n",
        "     * [Google Lens: Search what you see](https://www.youtube.com/watch?v=F2brcDqKTHI) \n",
        "  * 자율주행 : 테슬라 오토파일럿 & FSD(full Self Driving Capability) \n",
        "    * 운전자없이 자동차를 운행하는 것을 최종 목표로 하는 ADAS(Advanced Driver Assistance System)시스템    \n",
        "   * 테슬라는 운전 도움 기능들을 자동운행(Autopilot)과 완전 자율 주행(FSD;Full Self Driving Capability)로 나누어서 구분하고 FSD는 별도의 추가 비용을 받고 판매하고 있다. FSD옵션을 구매하지 않아도 하드웨어적으로는 완전 자율 주행을 위한 하드웨어 기능을 가지고 판매되고 있으며, 아직은 소프트웨어가 완성되지 않아 완전자율주행(레벨5)이 가능하지 않다. 이후 테슬라 소프트웨어 업데이트를 통해서 뒤에 열거된 자율 주행 기능들이 완성되어 각 국가의 법에 맞는 것이 확인될 때, 레벨5 완전 자율 주행이 가능할 예정이다. 그전까지는 다른 크루즈 컨트롤처럼 운전중에 운전자가 모든 상황을 계속 모니터하다가 문제가 있을 경우 수동 운전으로 변경하여 상황을 운전자가 제어해야 한다.\n",
        "   * 오토파일럿 & FSD 기능\n",
        "     * 교통 인식 크루즈 콘트롤(Traffic Aware Cruise Control)\n",
        "지정된 최고속도로 운행하며 앞차와 간격이 가까워지면 속도를 줄이거나 정차. 앞차와 간격이 늘어나면 다시 최고속도까지 가속\n",
        "      *  오토스티어(Autosteer)    \n",
        " 현재의 차선을 계속 유지하면서 운행\n",
        "      *  자동 차선변경(Auto Lane Change)   \n",
        "센서 혹은 측면 카메라로 옆차선의 공간을 확인하여 차선 변경\n",
        "      *  오토파일럿 내비게이션(Navigation on Autopilot on the highway,)    \n",
        "고속도로 진입로에서 나들목, 진출로까지 자율주행\n",
        "      *  오토파크(Autopark)   \n",
        "평행주차, 직렬주차\n",
        "      *  차량 호출(Summon)   \n",
        "주자창에서 무인 단거리 직진 전진, 후진\n",
        "      * 스마트 호출(Smart Summon)   \n",
        "옥외 주차장에서 차주의 스마트폰 위치까지 무인 자율 저속 이동\n",
        "스마트 호출은 옥외 주차장의 주행선 정보를 OpenStreetMap에서 사용\n",
        "     * 교통 신호등 및 일단 멈춤 표지판 인지(Traffic Light and Stop Sign Recognition)   \n",
        "     \n",
        "     * 교통 신호, 일단 멈춤 표지 인식 자율 정차(Traffic Light and Stop Sign Control)   \n",
        "\n",
        "   * 관련영상   \n",
        "[Tesla Model X | Full Self Driving incl. Tesla Vision Feed](https://www.youtube.com/watch?v=9ydhDQaLAqM)   \n",
        "[Tesla Autopilot predicts CRASH Compilation](https://www.youtube.com/watch?v=RjGe0GiiFzw)  \n",
        "\n",
        "    "
      ]
    },
    {
      "cell_type": "markdown",
      "metadata": {
        "id": "f3wm2-YrnFi9",
        "colab_type": "text"
      },
      "source": [
        ""
      ]
    },
    {
      "cell_type": "markdown",
      "metadata": {
        "id": "pWXfm8HBnIUa",
        "colab_type": "text"
      },
      "source": [
        ""
      ]
    },
    {
      "cell_type": "markdown",
      "metadata": {
        "id": "_-sseBRybIpD",
        "colab_type": "text"
      },
      "source": [
        ""
      ]
    },
    {
      "cell_type": "code",
      "metadata": {
        "id": "JNrbWJzTHfHp",
        "colab_type": "code",
        "colab": {}
      },
      "source": [
        ""
      ],
      "execution_count": 0,
      "outputs": []
    }
  ]
}